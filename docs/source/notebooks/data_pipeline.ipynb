{
 "cells": [
  {
   "cell_type": "markdown",
   "id": "0",
   "metadata": {},
   "source": [
    "# Notebook to explore netCDF files and change resolution, plus Python plotting\n",
    "These files are downloaded from [Copernicus Climate Data Store](https://cds.climate.copernicus.eu/datasets/reanalysis-era5-land-monthly-means?tab=download), using `cdsapi`. Get the data running the Python script `inout.py`:\n",
    "```\n",
    "python onehealth_db/inout.py\n",
    "```\n",
    "\n",
    "The downloaded files are stored in `data/in`. The `area` option uses values `90`, `90`, `-90`, `-90` for `North`, `East`, `South`, `West`, respectively.\n",
    "\n",
    "Question: What is the coordinate reference system for the era5 dataset? NUTS3 either on EPSG 3035, 4326, 3857.\n",
    "\n",
    "-> According to [ERA5-Land's documentation](https://confluence.ecmwf.int/display/CKB/ERA5-Land%3A+data+documentation):\n",
    "> The data is referenced in the horizontal with respect to the WGS84 ellipse (which defines the major/minor axes) and in the vertical it is referenced to the EGM96 geoid over land but over ocean it is referenced to mean sea level, with the approximation that this is assumed to be coincident with the geoid. \n",
    "\n",
    "Then according to [this page](https://spatialreference.org/ref/epsg/9707/), it seems like the coordinate reference system for ERA5-Land is EPSG:9707\n",
    "\n",
    "> ERA5-Land produces a total of 50 variables describing the\n",
    "water and energy cycles over land, globally, hourly, and at a\n",
    "spatial resolution of 9 km, matching the ECMWF triangular–\n",
    "cubic–octahedral (TCo1279) operational grid (Malardel\n",
    "et al., 2016)."
   ]
  },
  {
   "cell_type": "code",
   "execution_count": null,
   "id": "1",
   "metadata": {},
   "outputs": [],
   "source": [
    "from pathlib import Path\n",
    "import xarray as xr\n",
    "from matplotlib import pyplot as plt\n",
    "\n",
    "import numpy as np\n",
    "import pandas as pd\n",
    "import geopandas as gpd"
   ]
  },
  {
   "cell_type": "markdown",
   "id": "2",
   "metadata": {},
   "source": [
    "The following cells aim to explore the data structure"
   ]
  },
  {
   "cell_type": "code",
   "execution_count": null,
   "id": "3",
   "metadata": {},
   "outputs": [],
   "source": [
    "data_folder = Path(\"../../../data/\")"
   ]
  },
  {
   "cell_type": "markdown",
   "id": "4",
   "metadata": {},
   "source": [
    "### ERA5-Land from CDS"
   ]
  },
  {
   "cell_type": "code",
   "execution_count": null,
   "id": "5",
   "metadata": {},
   "outputs": [],
   "source": [
    "f_area_before_celsius = (\n",
    "    data_folder / \"in\" / \"era5_data_2016_2017_all_2t_tp_monthly_raw.nc\"\n",
    ")\n",
    "f_area_after_celsius = (\n",
    "    data_folder\n",
    "    / \"processed\"\n",
    "    / \"era5_data_2016-2017_allm_2t_tp_monthly_unicoords_adjlon_celsius_mm_05deg_trim_ts20250923-065745_hssc-laptop01.nc\"\n",
    ")"
   ]
  },
  {
   "cell_type": "markdown",
   "id": "6",
   "metadata": {},
   "source": [
    "#### Dask Array"
   ]
  },
  {
   "cell_type": "code",
   "execution_count": null,
   "id": "7",
   "metadata": {},
   "outputs": [],
   "source": [
    "dask_ds = xr.open_dataset(f_area_after_celsius, chunks={})\n",
    "dask_ds = dask_ds.chunk({\"time\": 1, \"latitude\": 900, \"longitude\": 1800})\n",
    "dask_ds"
   ]
  },
  {
   "cell_type": "code",
   "execution_count": null,
   "id": "8",
   "metadata": {},
   "outputs": [],
   "source": [
    "t2m_data = (\n",
    "    dask_ds[\"t2m\"].dropna(dim=\"latitude\", how=\"all\").load()\n",
    ")  # load data into memory\n",
    "t2m_data"
   ]
  },
  {
   "cell_type": "code",
   "execution_count": null,
   "id": "9",
   "metadata": {},
   "outputs": [],
   "source": [
    "stacked = t2m_data.stack(points=(\"time\", \"latitude\", \"longitude\"))\n",
    "stacked"
   ]
  },
  {
   "cell_type": "code",
   "execution_count": null,
   "id": "10",
   "metadata": {},
   "outputs": [],
   "source": [
    "stacked = stacked.dropna(\"points\")\n",
    "stacked"
   ]
  },
  {
   "cell_type": "code",
   "execution_count": null,
   "id": "11",
   "metadata": {},
   "outputs": [],
   "source": [
    "stacked[\"time\"].values.astype(\"datetime64[ns]\")"
   ]
  },
  {
   "cell_type": "code",
   "execution_count": null,
   "id": "12",
   "metadata": {},
   "outputs": [],
   "source": [
    "stacked[\"latitude\"].values"
   ]
  },
  {
   "cell_type": "code",
   "execution_count": null,
   "id": "13",
   "metadata": {},
   "outputs": [],
   "source": [
    "stacked[\"longitude\"].values"
   ]
  },
  {
   "cell_type": "code",
   "execution_count": null,
   "id": "14",
   "metadata": {},
   "outputs": [],
   "source": [
    "stacked.values"
   ]
  },
  {
   "cell_type": "markdown",
   "id": "15",
   "metadata": {},
   "source": [
    "#### Xarray"
   ]
  },
  {
   "cell_type": "code",
   "execution_count": null,
   "id": "16",
   "metadata": {},
   "outputs": [],
   "source": [
    "# load netCDF files\n",
    "ds_area_before_celsius = xr.open_dataset(f_area_before_celsius)\n",
    "ds_area_after_celsius = xr.open_dataset(f_area_after_celsius)"
   ]
  },
  {
   "cell_type": "code",
   "execution_count": null,
   "id": "17",
   "metadata": {},
   "outputs": [],
   "source": [
    "ds_area_before_celsius"
   ]
  },
  {
   "cell_type": "code",
   "execution_count": null,
   "id": "18",
   "metadata": {},
   "outputs": [],
   "source": [
    "ds_area_before_celsius.sel(\n",
    "    latitude=20.0, longitude=10.0, method=\"nearest\"\n",
    ").to_dataframe().head(5)"
   ]
  },
  {
   "cell_type": "code",
   "execution_count": null,
   "id": "19",
   "metadata": {},
   "outputs": [],
   "source": [
    "ds_area_before_celsius[\"tp\"].attrs"
   ]
  },
  {
   "cell_type": "code",
   "execution_count": null,
   "id": "20",
   "metadata": {},
   "outputs": [],
   "source": [
    "ds_area_after_celsius"
   ]
  },
  {
   "cell_type": "code",
   "execution_count": null,
   "id": "21",
   "metadata": {},
   "outputs": [],
   "source": [
    "ds_area_after_celsius.latitude.values[5]"
   ]
  },
  {
   "cell_type": "code",
   "execution_count": null,
   "id": "22",
   "metadata": {},
   "outputs": [],
   "source": [
    "ds_area_after_celsius[\"tp\"].attrs"
   ]
  },
  {
   "cell_type": "code",
   "execution_count": null,
   "id": "23",
   "metadata": {},
   "outputs": [],
   "source": [
    "ds_area_after_celsius.sel(\n",
    "    latitude=20.0, longitude=10.0, method=\"nearest\"\n",
    ").to_dataframe().head(5)"
   ]
  },
  {
   "cell_type": "code",
   "execution_count": null,
   "id": "24",
   "metadata": {},
   "outputs": [],
   "source": [
    "ds_area_after_celsius.latitude.values[5]"
   ]
  },
  {
   "cell_type": "code",
   "execution_count": null,
   "id": "25",
   "metadata": {},
   "outputs": [],
   "source": [
    "lat = 20.0\n",
    "lon = 10.0\n",
    "ds_area_after_celsius[\"t2m\"].sel(latitude=lat, longitude=lon, method=\"nearest\").plot(\n",
    "    color=\"blue\", marker=\"o\"\n",
    ")\n",
    "plt.title(\"2m temperature in 2024 at lat-{}, lon-{}\".format(lat, lon))\n",
    "plt.show()"
   ]
  },
  {
   "cell_type": "code",
   "execution_count": null,
   "id": "26",
   "metadata": {},
   "outputs": [],
   "source": [
    "# plot the data for the first month\n",
    "ds_area_after_celsius.t2m[0].plot.pcolormesh(figsize=(9, 5), robust=True)"
   ]
  },
  {
   "cell_type": "code",
   "execution_count": null,
   "id": "27",
   "metadata": {},
   "outputs": [],
   "source": [
    "ds_area_after_celsius.tp[0].plot.pcolormesh(figsize=(9, 5), robust=True)"
   ]
  },
  {
   "cell_type": "code",
   "execution_count": null,
   "id": "28",
   "metadata": {},
   "outputs": [],
   "source": [
    "# convert to dataframe\n",
    "df = ds_area_after_celsius.to_dataframe().reset_index()\n",
    "df"
   ]
  },
  {
   "cell_type": "markdown",
   "id": "29",
   "metadata": {},
   "source": [
    "### Population data from ISIMIP"
   ]
  },
  {
   "cell_type": "code",
   "execution_count": null,
   "id": "30",
   "metadata": {},
   "outputs": [],
   "source": [
    "f_popu_data = (\n",
    "    data_folder\n",
    "    / \"processed\"\n",
    "    / \"population_histsoc_30arcmin_annual_1901_2021_unicoords_2016-2017_ts20250923-065749_hssc-laptop01.nc\"\n",
    ")\n",
    "ds_popu_data = xr.open_dataset(f_popu_data, chunks={})"
   ]
  },
  {
   "cell_type": "code",
   "execution_count": null,
   "id": "31",
   "metadata": {},
   "outputs": [],
   "source": [
    "ds_popu_data"
   ]
  },
  {
   "cell_type": "code",
   "execution_count": null,
   "id": "32",
   "metadata": {},
   "outputs": [],
   "source": [
    "# only keep data from 2016 and 2017\n",
    "end_time = np.datetime64(\"2017-12-01\", \"ns\")\n",
    "limit_time = np.datetime64(\"2016-01-01\", \"ns\")\n",
    "ds_popu_data = ds_popu_data.sel(time=slice(limit_time, end_time))\n",
    "ds_popu_data.time.values"
   ]
  },
  {
   "cell_type": "code",
   "execution_count": null,
   "id": "33",
   "metadata": {},
   "outputs": [],
   "source": [
    "if ds_popu_data.time.values[0] > ds_popu_data.time.values[-1]:\n",
    "    # sort the time dimension in ascending order\n",
    "    ds_popu_data = ds_popu_data.sortby(\"time\")\n",
    "start_of_year = pd.Timestamp(\n",
    "    year=pd.to_datetime(ds_popu_data.time.values[0]).year,\n",
    "    month=1,\n",
    "    day=1,\n",
    "    hour=12,\n",
    "    minute=0,  # 0 hours for era5 data\n",
    ")\n",
    "end_of_year = pd.Timestamp(\n",
    "    year=pd.to_datetime(ds_popu_data.time.values[-1]).year,\n",
    "    month=12,\n",
    "    day=1,\n",
    "    hour=12,\n",
    "    minute=0,\n",
    ")\n",
    "monthly_time = pd.date_range(start=start_of_year, end=end_of_year, freq=\"MS\")\n",
    "monthly_time"
   ]
  },
  {
   "cell_type": "code",
   "execution_count": null,
   "id": "34",
   "metadata": {},
   "outputs": [],
   "source": [
    "# reindex the time dimension to match the monthly time\n",
    "ds_popu_data = ds_popu_data.reindex(time=monthly_time, method=\"ffill\")\n",
    "ds_popu_data"
   ]
  },
  {
   "cell_type": "code",
   "execution_count": null,
   "id": "35",
   "metadata": {},
   "outputs": [],
   "source": [
    "ds_popu_data[\"total-population\"].sel(\n",
    "    latitude=8.67, longitude=49.39, method=\"nearest\"\n",
    ").to_dataframe().head(14)"
   ]
  },
  {
   "cell_type": "code",
   "execution_count": null,
   "id": "36",
   "metadata": {},
   "outputs": [],
   "source": [
    "ds_popu_data[\"total-population\"].attrs"
   ]
  },
  {
   "cell_type": "code",
   "execution_count": null,
   "id": "37",
   "metadata": {},
   "outputs": [],
   "source": [
    "# resolution of population data\n",
    "res = ds_popu_data.latitude[1] - ds_popu_data.latitude[0]\n",
    "res"
   ]
  },
  {
   "cell_type": "code",
   "execution_count": null,
   "id": "38",
   "metadata": {},
   "outputs": [],
   "source": [
    "test_popu_data = ds_popu_data.sel(\n",
    "    latitude=8.67, longitude=49.39, method=\"nearest\"\n",
    ").to_dataframe()\n",
    "test_popu_data.head(5)"
   ]
  },
  {
   "cell_type": "code",
   "execution_count": null,
   "id": "39",
   "metadata": {},
   "outputs": [],
   "source": [
    "test_popu_data[\"total-population\"].plot()"
   ]
  },
  {
   "cell_type": "code",
   "execution_count": null,
   "id": "40",
   "metadata": {},
   "outputs": [],
   "source": [
    "ds_popu_data[\"total-population\"][-1].plot.pcolormesh(figsize=(9, 5), robust=True)"
   ]
  },
  {
   "cell_type": "markdown",
   "id": "41",
   "metadata": {},
   "source": [
    "## Check all the data visually\n",
    "### Cartesian grids"
   ]
  },
  {
   "cell_type": "code",
   "execution_count": null,
   "id": "42",
   "metadata": {},
   "outputs": [],
   "source": [
    "cartesian_grid_file = (\n",
    "    data_folder\n",
    "    / \"processed\"\n",
    "    / \"era5_data_2016-2017_allm_2t_tp_monthly_unicoords_adjlon_celsius_mm_05deg_trim_ts20250923-065745_hssc-laptop01.nc\"\n",
    ")\n",
    "pop_cartesian_grid_file = (\n",
    "    data_folder\n",
    "    / \"processed\"\n",
    "    / \"population_histsoc_30arcmin_annual_1901_2021_unicoords_2016-2017_ts20250923-065749_hssc-laptop01.nc\"\n",
    ")"
   ]
  },
  {
   "cell_type": "code",
   "execution_count": null,
   "id": "43",
   "metadata": {},
   "outputs": [],
   "source": [
    "# read the netcdf data into xarray\n",
    "cartesian_grid = xr.open_dataset(cartesian_grid_file)\n",
    "pop_cartesian_grid = xr.open_dataset(pop_cartesian_grid_file)"
   ]
  },
  {
   "cell_type": "code",
   "execution_count": null,
   "id": "44",
   "metadata": {},
   "outputs": [],
   "source": [
    "cartesian_grid.info"
   ]
  },
  {
   "cell_type": "code",
   "execution_count": null,
   "id": "45",
   "metadata": {},
   "outputs": [],
   "source": [
    "# plot the cartesian grid data of t2m and tp for 2016-2017, all months\n",
    "cartesian_grid.t2m.plot.pcolormesh(\n",
    "    col=\"time\", col_wrap=4, cmap=\"coolwarm\", robust=True, figsize=(15, 10)\n",
    ")\n",
    "plt.savefig(\"era5_2016_2017_plots_t2m.png\", dpi=300)\n",
    "plt.show()"
   ]
  },
  {
   "cell_type": "code",
   "execution_count": null,
   "id": "46",
   "metadata": {},
   "outputs": [],
   "source": [
    "cartesian_grid.tp.plot.pcolormesh(\n",
    "    col=\"time\", col_wrap=4, cmap=\"coolwarm\", robust=True, figsize=(15, 10)\n",
    ")\n",
    "plt.savefig(\"era5_2016_2017_plots_tp.png\", dpi=300)\n",
    "plt.show()"
   ]
  },
  {
   "cell_type": "code",
   "execution_count": null,
   "id": "47",
   "metadata": {},
   "outputs": [],
   "source": [
    "# plot the cartesian population data\n",
    "pop_cartesian_grid[\"total-population\"].plot.pcolormesh(\n",
    "    row=\"time\", cmap=\"coolwarm\", robust=True, figsize=(8, 8)\n",
    ")\n",
    "plt.savefig(\"population_2016_2017_plots.png\", dpi=300)\n",
    "plt.show()"
   ]
  },
  {
   "cell_type": "markdown",
   "id": "48",
   "metadata": {},
   "source": [
    "### NUTS averaged data"
   ]
  },
  {
   "cell_type": "code",
   "execution_count": null,
   "id": "49",
   "metadata": {},
   "outputs": [],
   "source": [
    "nuts_aggregated_file = (\n",
    "    data_folder / \"processed\" / \"NUTS_RG_20M_2024_4326_agg_era5_popu_2016-01-2017-12.nc\"\n",
    ")\n",
    "nuts_shapefile = data_folder / \"in\" / \"NUTS_RG_20M_2024_4326.shp\""
   ]
  },
  {
   "cell_type": "code",
   "execution_count": null,
   "id": "50",
   "metadata": {},
   "outputs": [],
   "source": [
    "# read the netcdf data into xarray\n",
    "nuts_grid = xr.open_dataset(nuts_aggregated_file)"
   ]
  },
  {
   "cell_type": "code",
   "execution_count": null,
   "id": "51",
   "metadata": {},
   "outputs": [],
   "source": [
    "# convert the xarray DataArray to pandas DataFrame\n",
    "# to be able to merge with the GeoDataFrame\n",
    "nuts_grid = nuts_grid.to_dataframe().reset_index()\n",
    "nuts_grid.head(5)"
   ]
  },
  {
   "cell_type": "code",
   "execution_count": null,
   "id": "52",
   "metadata": {},
   "outputs": [],
   "source": [
    "# read the NUTS shapefile\n",
    "NUTS_shapes = gpd.read_file(nuts_shapefile)\n",
    "# merge the shapes data with the grid values\n",
    "era5_nuts = NUTS_shapes.merge(nuts_grid, on=\"NUTS_ID\")"
   ]
  },
  {
   "cell_type": "code",
   "execution_count": null,
   "id": "53",
   "metadata": {},
   "outputs": [],
   "source": [
    "# Create plots for each monthly timestamp\n",
    "unique_times = era5_nuts[\"time\"].unique()\n",
    "n_times = len(unique_times)\n",
    "# Calculate subplot layout\n",
    "n_cols = 4\n",
    "n_rows = int(np.ceil(n_times / n_cols))"
   ]
  },
  {
   "cell_type": "code",
   "execution_count": null,
   "id": "54",
   "metadata": {},
   "outputs": [],
   "source": [
    "fig, ax = plt.subplots(n_rows, n_cols, figsize=(20, 5 * n_rows))\n",
    "ax = ax.flatten() if n_times > 1 else [ax]\n",
    "\n",
    "for i, timestamp in enumerate(unique_times):\n",
    "    axes = ax[i]\n",
    "\n",
    "    # Filter data for current timestamp\n",
    "    current_data = era5_nuts[era5_nuts[\"time\"] == timestamp]\n",
    "\n",
    "    # Create the plot\n",
    "    current_data.plot(\n",
    "        ax=axes,\n",
    "        column=\"t2m\",\n",
    "        legend=True,\n",
    "        cmap=\"coolwarm\",\n",
    "        markersize=0.5,\n",
    "        legend_kwds={\"shrink\": 0.8},\n",
    "    )\n",
    "\n",
    "    axes.set_title(f\"Temperature (t2m) - {pd.to_datetime(timestamp).strftime('%Y-%m')}\")\n",
    "    axes.set_xlabel(\"Longitude\")\n",
    "    axes.set_ylabel(\"Latitude\")\n",
    "\n",
    "plt.tight_layout()\n",
    "fig.savefig(\"nuts3_t2m.png\", dpi=300)"
   ]
  },
  {
   "cell_type": "code",
   "execution_count": null,
   "id": "55",
   "metadata": {},
   "outputs": [],
   "source": [
    "fig, ax = plt.subplots(n_rows, n_cols, figsize=(20, 5 * n_rows))\n",
    "ax = ax.flatten() if n_times > 1 else [ax]\n",
    "\n",
    "for i, timestamp in enumerate(unique_times):\n",
    "    axes = ax[i]\n",
    "\n",
    "    # Filter data for current timestamp\n",
    "    current_data = era5_nuts[era5_nuts[\"time\"] == timestamp]\n",
    "\n",
    "    # Create the plot\n",
    "    current_data.plot(\n",
    "        ax=axes,\n",
    "        column=\"tp\",\n",
    "        legend=True,\n",
    "        cmap=\"coolwarm\",\n",
    "        markersize=0.5,\n",
    "        legend_kwds={\"shrink\": 0.8},\n",
    "    )\n",
    "\n",
    "    axes.set_title(\n",
    "        f\"Precipitation (tp) - {pd.to_datetime(timestamp).strftime('%Y-%m')}\"\n",
    "    )\n",
    "    axes.set_xlabel(\"Longitude\")\n",
    "    axes.set_ylabel(\"Latitude\")\n",
    "\n",
    "plt.tight_layout()\n",
    "fig.savefig(\"nuts3_tp.png\", dpi=300)"
   ]
  },
  {
   "cell_type": "code",
   "execution_count": null,
   "id": "56",
   "metadata": {},
   "outputs": [],
   "source": [
    "# create the plots for the annual timestamps\n",
    "january_times = [time for time in unique_times if pd.to_datetime(time).month == 1]\n",
    "n_times = len(january_times)\n",
    "# Calculate subplot layout\n",
    "n_cols = 4\n",
    "n_rows = int(np.ceil(n_times / n_cols))"
   ]
  },
  {
   "cell_type": "code",
   "execution_count": null,
   "id": "57",
   "metadata": {},
   "outputs": [],
   "source": [
    "fig, ax = plt.subplots(n_rows, n_cols, figsize=(20, 5 * n_rows))\n",
    "ax = ax.flatten() if n_times > 1 else [ax]\n",
    "\n",
    "for i, timestamp in enumerate(january_times):\n",
    "    axes = ax[i]\n",
    "\n",
    "    # Filter data for current timestamp\n",
    "    current_data = era5_nuts[era5_nuts[\"time\"] == timestamp]\n",
    "\n",
    "    # Create the plot\n",
    "    current_data.plot(\n",
    "        ax=axes,\n",
    "        column=\"total-population\",\n",
    "        legend=True,\n",
    "        cmap=\"coolwarm\",\n",
    "        markersize=0.5,\n",
    "        legend_kwds={\"shrink\": 0.8},\n",
    "    )\n",
    "\n",
    "    axes.set_title(f\"Total Population - {pd.to_datetime(timestamp).strftime('%Y-%m')}\")\n",
    "    axes.set_xlabel(\"Longitude\")\n",
    "    axes.set_ylabel(\"Latitude\")\n",
    "\n",
    "\n",
    "# Remove empty subplots if any\n",
    "for j in range(i + 1, len(ax)):\n",
    "    fig.delaxes(ax[j])\n",
    "\n",
    "plt.tight_layout()\n",
    "fig.savefig(\"nuts3_total_population.png\", dpi=300)"
   ]
  },
  {
   "cell_type": "markdown",
   "id": "58",
   "metadata": {},
   "source": [
    "## Read data from the model backend, plotting over NUTS regions"
   ]
  },
  {
   "cell_type": "code",
   "execution_count": null,
   "id": "59",
   "metadata": {},
   "outputs": [],
   "source": [
    "jmodel_output = data_folder / \"in\" / \"output_JModel_global.nc\""
   ]
  },
  {
   "cell_type": "code",
   "execution_count": null,
   "id": "60",
   "metadata": {},
   "outputs": [],
   "source": [
    "ds_jmodel = xr.open_dataset(jmodel_output)"
   ]
  },
  {
   "cell_type": "code",
   "execution_count": null,
   "id": "61",
   "metadata": {},
   "outputs": [],
   "source": [
    "ds_jmodel"
   ]
  },
  {
   "cell_type": "code",
   "execution_count": null,
   "id": "62",
   "metadata": {},
   "outputs": [],
   "source": [
    "# plot the cartesian grid data of t2m and tp for 2016-2017, all months\n",
    "ds_jmodel.R0.plot.pcolormesh(\n",
    "    col=\"time\", col_wrap=4, cmap=\"coolwarm\", robust=True, figsize=(15, 10)\n",
    ")\n",
    "plt.savefig(\"era5_2016_2017_plots_R0.png\", dpi=300)\n",
    "plt.show()"
   ]
  },
  {
   "cell_type": "code",
   "execution_count": null,
   "id": "63",
   "metadata": {},
   "outputs": [],
   "source": [
    "# plotting over NUTS regions\n",
    "# currently in the other notebook, we have to decide how to split the material"
   ]
  }
 ],
 "metadata": {
  "kernelspec": {
   "display_name": "onehealth-data",
   "language": "python",
   "name": "python3"
  },
  "language_info": {
   "codemirror_mode": {
    "name": "ipython",
    "version": 3
   },
   "file_extension": ".py",
   "mimetype": "text/x-python",
   "name": "python",
   "nbconvert_exporter": "python",
   "pygments_lexer": "ipython3",
   "version": "3.13.5"
  }
 },
 "nbformat": 4,
 "nbformat_minor": 5
}
