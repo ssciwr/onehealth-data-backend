{
 "cells": [
  {
   "cell_type": "markdown",
   "id": "0",
   "metadata": {},
   "source": [
    "# Preparing data files\n",
    "\n",
    "Preparing data files according to the [data flowchart](../../../datalake_database/#data-flowchart)"
   ]
  },
  {
   "cell_type": "code",
   "execution_count": 1,
   "id": "1",
   "metadata": {},
   "outputs": [],
   "source": [
    "from onehealth_data_backend import inout\n",
    "from onehealth_data_backend import preprocess, utils\n",
    "from pathlib import Path\n",
    "import time"
   ]
  },
  {
   "cell_type": "code",
   "execution_count": 2,
   "id": "2",
   "metadata": {},
   "outputs": [],
   "source": [
    "# change to your own data folder, if needed\n",
    "data_folder = Path(\"../../../data/in/\")"
   ]
  },
  {
   "cell_type": "markdown",
   "id": "3",
   "metadata": {},
   "source": [
    "## Download ERA5-Land data"
   ]
  },
  {
   "cell_type": "markdown",
   "id": "4",
   "metadata": {},
   "source": [
    "To download ERA5-Land data using CDS's API:\n",
    "* Select the target dataset, e.g. ERA5-Land monthly averaged data from 1950 to present\n",
    "* Go to tab `Download` of the dataset and select the data variables, time range, geographical area, etc. that you want to download\n",
    "* At the end of the page, click on `Show API request code` and take notes of the following information\n",
    "    * `dataset`: name of the dataset\n",
    "    * `request`: a dictionary summarizes your download request\n",
    "* Replace the values of `dataset` and `request` in the below cell correspondingly"
   ]
  },
  {
   "cell_type": "code",
   "execution_count": 3,
   "id": "5",
   "metadata": {},
   "outputs": [],
   "source": [
    "# replace dataset and request with your own values\n",
    "dataset = \"reanalysis-era5-land-monthly-means\"\n",
    "request = {\n",
    "    \"product_type\": [\"monthly_averaged_reanalysis\"],\n",
    "    \"variable\": [\"2m_temperature\", \"total_precipitation\"],\n",
    "    \"year\": [\"2016\", \"2017\"],\n",
    "    \"month\": [\n",
    "        \"01\",\n",
    "        \"02\",\n",
    "        \"03\",\n",
    "        \"04\",\n",
    "        \"05\",\n",
    "        \"06\",\n",
    "        \"07\",\n",
    "        \"08\",\n",
    "        \"09\",\n",
    "        \"10\",\n",
    "        \"11\",\n",
    "        \"12\",\n",
    "    ],\n",
    "    \"time\": [\"00:00\"],\n",
    "    \"data_format\": \"netcdf\",\n",
    "    \"download_format\": \"unarchived\",\n",
    "}"
   ]
  },
  {
   "cell_type": "code",
   "execution_count": 4,
   "id": "6",
   "metadata": {},
   "outputs": [],
   "source": [
    "data_format = request.get(\"data_format\")\n",
    "\n",
    "# file name of downladed data\n",
    "file_name = inout.get_filename(\n",
    "    ds_name=dataset,\n",
    "    data_format=data_format,\n",
    "    years=request[\"year\"],\n",
    "    months=request[\"month\"],\n",
    "    has_area=bool(\"area\" in request),\n",
    "    base_name=\"era5_data\",\n",
    "    variable=request[\"variable\"],\n",
    ")\n",
    "output_file = data_folder / file_name"
   ]
  },
  {
   "cell_type": "code",
   "execution_count": 5,
   "id": "7",
   "metadata": {},
   "outputs": [
    {
     "name": "stdout",
     "output_type": "stream",
     "text": [
      "Downloading data...\n"
     ]
    },
    {
     "name": "stderr",
     "output_type": "stream",
     "text": [
      "2025-07-11 10:21:34,611 INFO [2024-09-26T00:00:00] Watch our [Forum](https://forum.ecmwf.int/) for Announcements, news and other discussed topics.\n",
      "2025-07-11 10:21:34,810 INFO Request ID is 53f4b1a5-3f48-46e1-83f0-dea8cdbe61c2\n",
      "2025-07-11 10:21:34,900 INFO status has been updated to accepted\n",
      "2025-07-11 10:21:48,584 INFO status has been updated to running\n",
      "2025-07-11 10:22:24,863 INFO status has been updated to successful\n"
     ]
    },
    {
     "data": {
      "application/vnd.jupyter.widget-view+json": {
       "model_id": "c2cb5be5eaaf4bc496aacf10d8aa50b5",
       "version_major": 2,
       "version_minor": 0
      },
      "text/plain": [
       "b279032b3e9c239adc0131799b46dd10.nc:   0%|          | 0.00/189M [00:00<?, ?B/s]"
      ]
     },
     "metadata": {},
     "output_type": "display_data"
    },
    {
     "name": "stdout",
     "output_type": "stream",
     "text": [
      "Data downloaded successfully to ../../../data/in/era5_data_2016_2017_all_2t_tp_monthly_raw.nc\n"
     ]
    }
   ],
   "source": [
    "# download data\n",
    "if not output_file.exists():\n",
    "    print(\"Downloading data...\")\n",
    "    inout.download_data(output_file, dataset, request)\n",
    "else:\n",
    "    print(\"Data already exists at {}\".format(output_file))"
   ]
  },
  {
   "cell_type": "markdown",
   "id": "8",
   "metadata": {},
   "source": [
    "## Load settings"
   ]
  },
  {
   "cell_type": "markdown",
   "id": "9",
   "metadata": {},
   "source": [
    "First we need to load the default settings which setup preprocessing steps."
   ]
  },
  {
   "cell_type": "code",
   "execution_count": 6,
   "id": "10",
   "metadata": {},
   "outputs": [],
   "source": [
    "settings = utils.get_settings(\n",
    "    setting_path=\"default\",\n",
    "    new_settings={},\n",
    "    updated_setting_dir=None,\n",
    "    save_updated_settings=False,\n",
    ")"
   ]
  },
  {
   "cell_type": "markdown",
   "id": "11",
   "metadata": {},
   "source": [
    "TBU: more details about the default settings will be provided..."
   ]
  },
  {
   "cell_type": "markdown",
   "id": "12",
   "metadata": {},
   "source": [
    "## Preprocess data"
   ]
  },
  {
   "cell_type": "markdown",
   "id": "13",
   "metadata": {},
   "source": [
    "### Preprocess ERA5-Land data"
   ]
  },
  {
   "cell_type": "code",
   "execution_count": 7,
   "id": "14",
   "metadata": {},
   "outputs": [
    {
     "name": "stdout",
     "output_type": "stream",
     "text": [
      "Preprocessing ERA5-Land data...\n",
      "Renaming coordinates to unify them across datasets...\n",
      "Adjusting longitude from 0-360 to -180-180...\n",
      "Converting temperature from Kelvin to Celsius...\n"
     ]
    },
    {
     "name": "stderr",
     "output_type": "stream",
     "text": [
      "/home/inga/projects/onehealth-project/onehealth-data-backend/onehealth_data_backend/preprocess.py:163: UserWarning: Coordinate 'lat' not found in the dataset and will be skipped.\n",
      "  warnings.warn(\n",
      "/home/inga/projects/onehealth-project/onehealth-data-backend/onehealth_data_backend/preprocess.py:163: UserWarning: Coordinate 'lon' not found in the dataset and will be skipped.\n",
      "  warnings.warn(\n"
     ]
    },
    {
     "name": "stdout",
     "output_type": "stream",
     "text": [
      "Converting precipitation from meters to millimeters...\n",
      "Resampling grid to a new resolution...\n",
      "Processed dataset saved to: ../../../data/in/era5_data_2016_2017_all_2t_tp_monthly_unicoords_adjlon_celsius_mm_05deg_trim.nc\n",
      "Preprocessing completed in 22.91 seconds.\n"
     ]
    }
   ],
   "source": [
    "# disable truncation of dates\n",
    "settings[\"truncate_date\"] = False\n",
    "\n",
    "print(\"Preprocessing ERA5-Land data...\")\n",
    "t0 = time.time()\n",
    "preprocessed_dataset = preprocess.preprocess_data_file(\n",
    "    netcdf_file=output_file,\n",
    "    settings=settings,\n",
    ")\n",
    "t_preprocess = time.time()\n",
    "print(\"Preprocessing completed in {:.2f} seconds.\".format(t_preprocess - t0))"
   ]
  },
  {
   "cell_type": "markdown",
   "id": "15",
   "metadata": {},
   "source": [
    "The preprocessed dataset is also saved in a `.nc` file under the same folder, namely `era5_data_2016_2017_all_2t_tp_monthly_unicoords_adjlon_celsius_mm_05deg_trim`\n",
    "\n",
    "Details on regulation for the file name can be found in [Data](../../data.md)."
   ]
  },
  {
   "cell_type": "markdown",
   "id": "16",
   "metadata": {},
   "source": [
    "### Preprocess population data"
   ]
  },
  {
   "cell_type": "markdown",
   "id": "17",
   "metadata": {},
   "source": [
    "Instructions for downloading population data (i.e. ISIMIP data) are presented in [Data](../../data.md) and [Data Lake](../../datalake.md)."
   ]
  },
  {
   "cell_type": "code",
   "execution_count": 12,
   "id": "18",
   "metadata": {},
   "outputs": [],
   "source": [
    "popu_file = data_folder / \"population_histsoc_30arcmin_annual_1901_2021.nc\""
   ]
  },
  {
   "cell_type": "code",
   "execution_count": 11,
   "id": "19",
   "metadata": {},
   "outputs": [
    {
     "name": "stdout",
     "output_type": "stream",
     "text": [
      "Preprocessing population data...\n"
     ]
    },
    {
     "ename": "ValueError",
     "evalue": "netcdf_file must be a valid file path.",
     "output_type": "error",
     "traceback": [
      "\u001b[31m---------------------------------------------------------------------------\u001b[39m",
      "\u001b[31mValueError\u001b[39m                                Traceback (most recent call last)",
      "\u001b[36mCell\u001b[39m\u001b[36m \u001b[39m\u001b[32mIn[11]\u001b[39m\u001b[32m, line 10\u001b[39m\n\u001b[32m      8\u001b[39m \u001b[38;5;28mprint\u001b[39m(\u001b[33m\"\u001b[39m\u001b[33mPreprocessing population data...\u001b[39m\u001b[33m\"\u001b[39m)\n\u001b[32m      9\u001b[39m t0 = time.time()\n\u001b[32m---> \u001b[39m\u001b[32m10\u001b[39m preprocessed_popu = \u001b[43mpreprocess\u001b[49m\u001b[43m.\u001b[49m\u001b[43mpreprocess_data_file\u001b[49m\u001b[43m(\u001b[49m\n\u001b[32m     11\u001b[39m \u001b[43m    \u001b[49m\u001b[43mnetcdf_file\u001b[49m\u001b[43m=\u001b[49m\u001b[43mpopu_file\u001b[49m\u001b[43m,\u001b[49m\n\u001b[32m     12\u001b[39m \u001b[43m    \u001b[49m\u001b[43msettings\u001b[49m\u001b[43m=\u001b[49m\u001b[43msettings\u001b[49m\u001b[43m,\u001b[49m\n\u001b[32m     13\u001b[39m \u001b[43m)\u001b[49m\n\u001b[32m     14\u001b[39m t_popu = time.time()\n\u001b[32m     15\u001b[39m \u001b[38;5;28mprint\u001b[39m(\u001b[33m\"\u001b[39m\u001b[33mPreprocessing population data completed in \u001b[39m\u001b[38;5;132;01m{:.2f}\u001b[39;00m\u001b[33m seconds.\u001b[39m\u001b[33m\"\u001b[39m.format(t_popu - t0))\n",
      "\u001b[36mFile \u001b[39m\u001b[32m~/projects/onehealth-project/onehealth-data-backend/onehealth_data_backend/preprocess.py:646\u001b[39m, in \u001b[36mpreprocess_data_file\u001b[39m\u001b[34m(netcdf_file, settings)\u001b[39m\n\u001b[32m    642\u001b[39m invalid_file = (\n\u001b[32m    643\u001b[39m     \u001b[38;5;129;01mnot\u001b[39;00m netcdf_file \u001b[38;5;129;01mor\u001b[39;00m \u001b[38;5;129;01mnot\u001b[39;00m netcdf_file.exists() \u001b[38;5;129;01mor\u001b[39;00m netcdf_file.stat().st_size == \u001b[32m0\u001b[39m\n\u001b[32m    644\u001b[39m )\n\u001b[32m    645\u001b[39m \u001b[38;5;28;01mif\u001b[39;00m invalid_file:\n\u001b[32m--> \u001b[39m\u001b[32m646\u001b[39m     \u001b[38;5;28;01mraise\u001b[39;00m \u001b[38;5;167;01mValueError\u001b[39;00m(\u001b[33m\"\u001b[39m\u001b[33mnetcdf_file must be a valid file path.\u001b[39m\u001b[33m\"\u001b[39m)\n\u001b[32m    648\u001b[39m \u001b[38;5;28;01mif\u001b[39;00m \u001b[38;5;129;01mnot\u001b[39;00m settings:\n\u001b[32m    649\u001b[39m     \u001b[38;5;28;01mraise\u001b[39;00m \u001b[38;5;167;01mValueError\u001b[39;00m(\u001b[33m\"\u001b[39m\u001b[33msettings must be a non-empty dictionary.\u001b[39m\u001b[33m\"\u001b[39m)\n",
      "\u001b[31mValueError\u001b[39m: netcdf_file must be a valid file path."
     ]
    }
   ],
   "source": [
    "settings[\"truncate_date\"] = True\n",
    "# disable uncessary preprocessing steps\n",
    "settings[\"adjust_longitude\"] = False\n",
    "settings[\"convert_kelvin_to_celsius\"] = False\n",
    "settings[\"convert_m_to_mm_precipitation\"] = False\n",
    "settings[\"resample_grid\"] = False\n",
    "\n",
    "print(\"Preprocessing population data...\")\n",
    "t0 = time.time()\n",
    "preprocessed_popu = preprocess.preprocess_data_file(\n",
    "    netcdf_file=popu_file,\n",
    "    settings=settings,\n",
    ")\n",
    "t_popu = time.time()\n",
    "print(\"Preprocessing population data completed in {:.2f} seconds.\".format(t_popu - t0))"
   ]
  },
  {
   "cell_type": "markdown",
   "id": "20",
   "metadata": {},
   "source": [
    "The preprocessed dataset is also saved in a `.nc` file under the same folder."
   ]
  }
 ],
 "metadata": {
  "kernelspec": {
   "display_name": "onehealth-data",
   "language": "python",
   "name": "python3"
  },
  "language_info": {
   "codemirror_mode": {
    "name": "ipython",
    "version": 3
   },
   "file_extension": ".py",
   "mimetype": "text/x-python",
   "name": "python",
   "nbconvert_exporter": "python",
   "pygments_lexer": "ipython3",
   "version": "3.13.5"
  }
 },
 "nbformat": 4,
 "nbformat_minor": 5
}
